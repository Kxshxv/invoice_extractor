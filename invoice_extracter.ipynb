{
  "nbformat": 4,
  "nbformat_minor": 0,
  "metadata": {
    "colab": {
      "provenance": [],
      "authorship_tag": "ABX9TyNCAnKFXyhB5NSGtsURBBKT",
      "include_colab_link": true
    },
    "kernelspec": {
      "name": "python3",
      "display_name": "Python 3"
    },
    "language_info": {
      "name": "python"
    }
  },
  "cells": [
    {
      "cell_type": "markdown",
      "metadata": {
        "id": "view-in-github",
        "colab_type": "text"
      },
      "source": [
        "<a href=\"https://colab.research.google.com/github/Kxshxv/invoice_extractor/blob/main/invoice_extracter.ipynb\" target=\"_parent\"><img src=\"https://colab.research.google.com/assets/colab-badge.svg\" alt=\"Open In Colab\"/></a>"
      ]
    },
    {
      "cell_type": "code",
      "execution_count": 26,
      "metadata": {
        "id": "H47FN2P7GtTq"
      },
      "outputs": [],
      "source": [
        "!pip install -q -U google-generativeai\n"
      ]
    },
    {
      "cell_type": "code",
      "source": [
        "import google.generativeai as genai"
      ],
      "metadata": {
        "id": "LN93jj5VHUCJ"
      },
      "execution_count": 27,
      "outputs": []
    },
    {
      "cell_type": "markdown",
      "source": [
        "seting and api key"
      ],
      "metadata": {
        "id": "n91dFhGCHcor"
      }
    },
    {
      "cell_type": "code",
      "source": [
        "from google.colab import userdata\n",
        "google_api_key = userdata.get('google_api_key')\n",
        "google_api_key = google_api_key.strip().replace('\\r', '').replace('\\n', '')\n",
        "genai.configure(api_key=google_api_key)"
      ],
      "metadata": {
        "id": "kaKwbEXqLIub"
      },
      "execution_count": 28,
      "outputs": []
    },
    {
      "cell_type": "markdown",
      "source": [
        "listing of the models available"
      ],
      "metadata": {
        "id": "bS-nmWeRJzms"
      }
    },
    {
      "cell_type": "code",
      "source": [
        "for m in genai.list_models():\n",
        "  if 'generateContent' in m.supported_generation_methods:\n",
        "    print(m.name)"
      ],
      "metadata": {
        "colab": {
          "base_uri": "https://localhost:8080/",
          "height": 468
        },
        "id": "w__hWpAOJ43Z",
        "outputId": "8fc4dda7-bdf7-4707-9a2c-d21573cd3fb2"
      },
      "execution_count": 29,
      "outputs": [
        {
          "output_type": "stream",
          "name": "stdout",
          "text": [
            "models/gemini-1.0-pro-latest\n",
            "models/gemini-1.0-pro\n",
            "models/gemini-pro\n",
            "models/gemini-1.0-pro-001\n",
            "models/gemini-1.0-pro-vision-latest\n",
            "models/gemini-pro-vision\n",
            "models/gemini-1.5-pro-latest\n",
            "models/gemini-1.5-pro-001\n",
            "models/gemini-1.5-pro-002\n",
            "models/gemini-1.5-pro\n",
            "models/gemini-1.5-pro-exp-0801\n",
            "models/gemini-1.5-pro-exp-0827\n",
            "models/gemini-1.5-flash-latest\n",
            "models/gemini-1.5-flash-001\n",
            "models/gemini-1.5-flash-001-tuning\n",
            "models/gemini-1.5-flash\n",
            "models/gemini-1.5-flash-exp-0827\n",
            "models/gemini-1.5-flash-002\n",
            "models/gemini-1.5-flash-8b\n",
            "models/gemini-1.5-flash-8b-001\n",
            "models/gemini-1.5-flash-8b-latest\n",
            "models/gemini-1.5-flash-8b-exp-0827\n",
            "models/gemini-1.5-flash-8b-exp-0924\n",
            "models/learnlm-1.5-pro-experimental\n",
            "models/gemini-exp-1114\n",
            "models/gemini-exp-1121\n"
          ]
        }
      ]
    },
    {
      "cell_type": "code",
      "source": [
        "MODEL_CONFIG = {\n",
        "    \"temperature\": 0.2,\n",
        "    \"top_p\": 1,\n",
        "    \"top_k\": 32,\n",
        "    \"max_output_tokens\": 4096,\n",
        "}\n",
        "\n",
        "safety_settings = [\n",
        "    {\"category\": \"HARM_CATEGORY_HARASSMENT\", \"threshold\": \"BLOCK_MEDIUM_AND_ABOVE\"},\n",
        "    {\"category\": \"HARM_CATEGORY_HATE_SPEECH\", \"threshold\": \"BLOCK_MEDIUM_AND_ABOVE\"},\n",
        "    {\"category\": \"HARM_CATEGORY_SEXUALLY_EXPLICIT\", \"threshold\": \"BLOCK_MEDIUM_AND_ABOVE\"},\n",
        "    {\"category\": \"HARM_CATEGORY_DANGEROUS_CONTENT\", \"threshold\": \"BLOCK_MEDIUM_AND_ABOVE\"}\n",
        "]\n",
        "\n"
      ],
      "metadata": {
        "id": "idIXy2sgNjF1"
      },
      "execution_count": 30,
      "outputs": []
    },
    {
      "cell_type": "code",
      "source": [
        "model = genai.GenerativeModel(model_name=\"gemini-1.5-flash\", generation_config= MODEL_CONFIG, safety_settings= safety_settings)"
      ],
      "metadata": {
        "id": "0MW_nfuDjTND"
      },
      "execution_count": 35,
      "outputs": []
    },
    {
      "cell_type": "markdown",
      "source": [
        "define image format to input in gemini\n"
      ],
      "metadata": {
        "id": "NcX1JHglPlSr"
      }
    },
    {
      "cell_type": "code",
      "source": [
        "from pathlib import Path\n",
        "\n",
        "def image_formart(image_path):\n",
        "  image_path = Path(image_path)\n",
        "\n",
        "  if not image_path.exists():\n",
        "    raise FileNotFoundError(f\"Could not find image: {image_path}\")\n",
        "\n",
        "  image_parts = [\n",
        "      {\n",
        "          \"mime_type\": \"image/png\",\n",
        "          \"data\": image_path.read_bytes()\n",
        "      }\n",
        "  ]\n",
        "  return image_parts\n"
      ],
      "metadata": {
        "id": "BXAG_O4rPsnY"
      },
      "execution_count": 36,
      "outputs": []
    },
    {
      "cell_type": "markdown",
      "source": [
        "gemini model output(user prompt)"
      ],
      "metadata": {
        "id": "3tqfDz1IlXvD"
      }
    },
    {
      "cell_type": "code",
      "source": [
        "def gemini_output(image_path, system_prompt, user_prompt):\n",
        "  image_info = image_formart(image_path)\n",
        "  input_prompt = [ system_prompt, image_info[0], user_prompt]\n",
        "  response = model.generate_content(input_prompt)\n",
        "  return response.text"
      ],
      "metadata": {
        "id": "oi8sazicldD3"
      },
      "execution_count": 37,
      "outputs": []
    },
    {
      "cell_type": "markdown",
      "source": [
        "extracting part of information"
      ],
      "metadata": {
        "id": "1GBzLx25mXFM"
      }
    },
    {
      "cell_type": "code",
      "source": [
        "system_prompt = \" exctact the data from the invoice\"\n",
        "\n",
        "image_path = \"/content/invoice.png\"\n",
        "\n",
        "user_prompt= \"what is the GSTIN number\"\n",
        "\n",
        "gemini_output(image_path, system_prompt, user_prompt)"
      ],
      "metadata": {
        "colab": {
          "base_uri": "https://localhost:8080/",
          "height": 36
        },
        "id": "J9qHtIjzmlAe",
        "outputId": "a1f6a48d-8185-449b-d253-e03df8d42fc8"
      },
      "execution_count": 39,
      "outputs": [
        {
          "output_type": "execute_result",
          "data": {
            "text/plain": [
              "'The GSTIN number for the seller is 29AAACD0474C1ZI.  The GSTIN number for the buyer is 29AABCA8887F1Z8.'"
            ],
            "application/vnd.google.colaboratory.intrinsic+json": {
              "type": "string"
            }
          },
          "metadata": {},
          "execution_count": 39
        }
      ]
    },
    {
      "cell_type": "markdown",
      "source": [
        "extractind all the data"
      ],
      "metadata": {
        "id": "KPJSiG4WsmSc"
      }
    },
    {
      "cell_type": "code",
      "source": [
        "system_prompt = \" extract all the data from the invoice\"\n",
        "\n",
        "image_path = \"/content/invoice.png\"\n",
        "\n",
        "user_prompt= \"Convert Invoice data into json format with appropriate json tags as required for the data in image\"\n",
        "\n"
      ],
      "metadata": {
        "id": "hD_ufujpsqYY"
      },
      "execution_count": 47,
      "outputs": []
    },
    {
      "cell_type": "code",
      "source": [
        "output =gemini_output(image_path, system_prompt, user_prompt)"
      ],
      "metadata": {
        "id": "W6ytahZWvZFB"
      },
      "execution_count": 45,
      "outputs": []
    },
    {
      "cell_type": "code",
      "source": [
        "from IPython.display import Markdown\n",
        "Markdown(output)"
      ],
      "metadata": {
        "colab": {
          "base_uri": "https://localhost:8080/",
          "height": 1000
        },
        "id": "5D1vZb7mwXwu",
        "outputId": "40007090-1331-43f0-8ed7-352e0bf58a6e"
      },
      "execution_count": 46,
      "outputs": [
        {
          "output_type": "execute_result",
          "data": {
            "text/plain": [
              "<IPython.core.display.Markdown object>"
            ],
            "text/markdown": "```json\n{\n  \"invoice_number\": \"IN2912407402\",\n  \"invoice_date\": \"14.06.2024\",\n  \"due_date\": \"15.07.2024\",\n  \"company\": \"DABUR INDIA LIMITED\",\n  \"company_address\": \"Regd Office:8/3, Asaf Ali Road, New Delhi 110 002\",\n  \"company_gst\": \"29AAACD0474C1ZI\",\n  \"company_pan\": \"AAACD0474C\",\n  \"company_cin\": \"L24230DL1975PLC007908\",\n  \"company_phone\": \"011-23253488\",\n  \"company_email\": \"Corpcomm@dabur.com\",\n  \"billing_address\": {\n    \"name\": \"ATLAS DISTRIBUTORS PVT.LTD\",\n    \"address\": \"No.1060/1047/941/1/77/1A/33/2, Eswari Industrial Estate Hulimavu Main R, Bannerghatta Road,, Bangalore, - 560076\",\n    \"pan\": \"AABCA8887F\",\n    \"gst\": \"29AABCA8887F1Z8\"\n  },\n  \"shipping_address\": {\n    \"name\": \"ATLAS DISTRIBUTORS PVT.LTD\",\n    \"address\": \"No.1060/1047/941/1/77/1A/33/2, Eswari Industrial Estate Hulimavu Main R, Bannerghatta Road,, Bangalore, - 560076\"\n  },\n  \"items\": [\n    {\n      \"item_code\": \"FF010180R\",\n      \"product_description\": \"Real Fruit Power Mango 180ml\",\n      \"hsn_code\": \"22029920\",\n      \"mfg_date\": \"04/24\",\n      \"exp_date\": \"11/24\",\n      \"batch\": \"RU0228\",\n      \"unit_per_case\": \"30\",\n      \"mrp\": \"20.00\",\n      \"rate_per_unit\": \"11.05\",\n      \"qty_cases\": \"20\",\n      \"qty_units\": \"600\",\n      \"uom\": \"EA\",\n      \"free_qty_cases\": \"0\",\n      \"free_qty_units\": \"0\",\n      \"gross_amt\": \"6,630.13\",\n      \"disc_percent\": \"0\",\n      \"disc_amt\": \"0\",\n      \"taxable_amt\": \"6630.13\",\n      \"total_gst\": \"795.62\",\n      \"total_gst_percent\": \"12.00\",\n      \"cess_percent\": \"0.00\",\n      \"cess_amt\": \"0.00\",\n      \"invoice_amt\": \"7425.75\"\n    },\n    {\n      \"item_code\": \"FF0101LTR\",\n      \"product_description\": \"Real Fruit Power Mango - 1 LTR\",\n      \"hsn_code\": \"22029920\",\n      \"mfg_date\": \"05/24\",\n      \"exp_date\": \"12/24\",\n      \"batch\": \"ID00007\",\n      \"unit_per_case\": \"12\",\n      \"mrp\": \"115.00\",\n      \"rate_per_unit\": \"71.20\",\n      \"qty_cases\": \"50\",\n      \"qty_units\": \"600\",\n      \"uom\": \"EA\",\n      \"free_qty_cases\": \"0\",\n      \"free_qty_units\": \"0\",\n      \"gross_amt\": \"42,717.47\",\n      \"disc_percent\": \"0\",\n      \"disc_amt\": \"0\",\n      \"taxable_amt\": \"42717.47\",\n      \"total_gst\": \"5126.1\",\n      \"total_gst_percent\": \"12.00\",\n      \"cess_percent\": \"0.00\",\n      \"cess_amt\": \"0.00\",\n      \"invoice_amt\": \"47843.57\"\n    },\n    // ... (rest of the items)\n  ],\n  \"total\": {\n    \"gross_amt\": \"351107.07\",\n    \"total_gst\": \"42132.84\",\n    \"total_cess\": \"0.00\",\n    \"invoice_amt\": \"393239.91\"\n  },\n  \"payment_terms\": \"Payment due after 30 days from the date of invoice\"\n}\n```"
          },
          "metadata": {},
          "execution_count": 46
        }
      ]
    },
    {
      "cell_type": "code",
      "source": [],
      "metadata": {
        "id": "WK42a-huxJ0O"
      },
      "execution_count": null,
      "outputs": []
    }
  ]
}